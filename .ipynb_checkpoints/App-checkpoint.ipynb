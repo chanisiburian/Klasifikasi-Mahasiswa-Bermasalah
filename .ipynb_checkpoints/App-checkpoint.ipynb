{
 "cells": [
  {
   "cell_type": "code",
   "execution_count": 1,
   "metadata": {},
   "outputs": [],
   "source": [
    "# pip install flask"
   ]
  },
  {
   "cell_type": "code",
   "execution_count": null,
   "metadata": {},
   "outputs": [
    {
     "name": "stdout",
     "output_type": "stream",
     "text": [
      " * Serving Flask app '__main__' (lazy loading)\n",
      " * Environment: production\n",
      "\u001b[31m   WARNING: This is a development server. Do not use it in a production deployment.\u001b[0m\n",
      "\u001b[2m   Use a production WSGI server instead.\u001b[0m\n",
      " * Debug mode: off\n"
     ]
    },
    {
     "name": "stderr",
     "output_type": "stream",
     "text": [
      " * Running on http://127.0.0.1:5000 (Press CTRL+C to quit)\n",
      "127.0.0.1 - - [23/Jun/2022 00:38:37] \"GET / HTTP/1.1\" 200 -\n",
      "127.0.0.1 - - [23/Jun/2022 00:38:47] \"POST /result HTTP/1.1\" 200 -\n",
      "127.0.0.1 - - [23/Jun/2022 00:38:49] \"GET /index HTTP/1.1\" 200 -\n"
     ]
    }
   ],
   "source": [
    "import os\n",
    "import numpy as np\n",
    "import flask\n",
    "import pickle\n",
    "from flask import Flask, request, render_template\n",
    "\n",
    "\n",
    "appNB = Flask(__name__, template_folder='templates') \n",
    "\n",
    "@appNB.route('/')\n",
    "@appNB.route('/index')\n",
    "def index():\n",
    "    return flask.render_template('index.html')\n",
    "    \n",
    "\n",
    "def ValuePredictor(to_predict_list):\n",
    "    to_predict = np.array(to_predict_list).reshape(1,5)\n",
    "    loaded_model = pickle.load(open(\"modelnb.pkl\",\"rb\")) # load the model\n",
    "    result = loaded_model.predict(to_predict) # predict the values using loded model\n",
    "    return result[0]\n",
    "\n",
    "\n",
    "@appNB.route('/result', methods = ['POST'])\n",
    "def result():\n",
    "    if request.method == 'POST':\n",
    "        to_predict_list = request.form.values()\n",
    "        \n",
    "        to_predict_list = list(map(float, to_predict_list))\n",
    "        result = ValuePredictor(to_predict_list)\n",
    "            \n",
    "        if float(result) == 0:\n",
    "            prediction='Mahasiswa Tidak Bermasalah'\n",
    "        elif float(result) == 1:\n",
    "            prediction='Mahasiswa Bermasalah Ringan'\n",
    "        elif float(result) == 2:\n",
    "            prediction='Mahasiswa Bermasalah Sedang'\n",
    "        elif float(result) == 3:\n",
    "            prediction='Mahasiswa Bermasalah Berat'\n",
    "            \n",
    "        return render_template(\"result.html\",prediction=prediction)\n",
    "\n",
    "if __name__ == \"__main__\":\n",
    "    appNB.run(debug=False) # use debug = False for jupyter notebook"
   ]
  },
  {
   "cell_type": "markdown",
   "metadata": {},
   "source": []
  }
 ],
 "metadata": {
  "kernelspec": {
   "display_name": "Python 3 (ipykernel)",
   "language": "python",
   "name": "python3"
  },
  "language_info": {
   "codemirror_mode": {
    "name": "ipython",
    "version": 3
   },
   "file_extension": ".py",
   "mimetype": "text/x-python",
   "name": "python",
   "nbconvert_exporter": "python",
   "pygments_lexer": "ipython3",
   "version": "3.10.4"
  }
 },
 "nbformat": 4,
 "nbformat_minor": 4
}
